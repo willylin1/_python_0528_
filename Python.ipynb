{
 "cells": [
  {
   "cell_type": "code",
   "execution_count": 1,
   "metadata": {},
   "outputs": [
    {
     "name": "stdout",
     "output_type": "stream",
     "text": [
      "hello world\n"
     ]
    }
   ],
   "source": [
    "print('hello world')"
   ]
  },
  {
   "cell_type": "code",
   "execution_count": 1,
   "metadata": {},
   "outputs": [
    {
     "name": "stdout",
     "output_type": "stream",
     "text": [
      "<class 'int'>\n",
      "<class 'int'>\n",
      "140697938821648\n",
      "140697938821968\n"
     ]
    }
   ],
   "source": [
    "a = 10\n",
    "b = 20\n",
    "#型別 type\n",
    "print(type(a))\n",
    "print(type(b))\n",
    "\n",
    "#id\n",
    "print(id(a))\n",
    "print(id(b))\n"
   ]
  },
  {
   "cell_type": "code",
   "execution_count": 1,
   "metadata": {},
   "outputs": [
    {
     "data": {
      "text/plain": [
       "(1+5j)"
      ]
     },
     "execution_count": 1,
     "metadata": {},
     "output_type": "execute_result"
    }
   ],
   "source": [
    "a = complex(1,5)\n",
    "a"
   ]
  },
  {
   "cell_type": "code",
   "execution_count": 3,
   "metadata": {},
   "outputs": [
    {
     "data": {
      "text/plain": [
       "2"
      ]
     },
     "execution_count": 3,
     "metadata": {},
     "output_type": "execute_result"
    }
   ],
   "source": [
    "c = 1 + True\n",
    "c"
   ]
  },
  {
   "cell_type": "code",
   "execution_count": 4,
   "metadata": {},
   "outputs": [
    {
     "data": {
      "text/plain": [
       "'hellopython'"
      ]
     },
     "execution_count": 4,
     "metadata": {},
     "output_type": "execute_result"
    }
   ],
   "source": [
    "str = 'hello'+ 'python'\n",
    "str"
   ]
  },
  {
   "cell_type": "code",
   "execution_count": 27,
   "metadata": {},
   "outputs": [
    {
     "data": {
      "text/plain": [
       "'dlrow,olleh'"
      ]
     },
     "execution_count": 27,
     "metadata": {},
     "output_type": "execute_result"
    }
   ],
   "source": [
    "#字串的反轉\n",
    "str = 'hello,world'\n",
    "\n",
    "str [::-1]\n"
   ]
  },
  {
   "attachments": {},
   "cell_type": "markdown",
   "metadata": {},
   "source": [
    "大小寫"
   ]
  },
  {
   "cell_type": "code",
   "execution_count": 21,
   "metadata": {},
   "outputs": [
    {
     "name": "stdout",
     "output_type": "stream",
     "text": [
      "HELLO,WORLD\n"
     ]
    },
    {
     "data": {
      "text/plain": [
       "'hello,world'"
      ]
     },
     "execution_count": 21,
     "metadata": {},
     "output_type": "execute_result"
    }
   ],
   "source": [
    "str = 'hello,world'\n",
    "print(str.upper())\n",
    "str.lower()"
   ]
  },
  {
   "attachments": {},
   "cell_type": "markdown",
   "metadata": {},
   "source": [
    "刪除頭尾空白"
   ]
  },
  {
   "cell_type": "code",
   "execution_count": 20,
   "metadata": {},
   "outputs": [
    {
     "data": {
      "text/plain": [
       "'hello,python'"
      ]
     },
     "execution_count": 20,
     "metadata": {},
     "output_type": "execute_result"
    }
   ],
   "source": [
    "# 刪除頭尾空白\n",
    "str_4 = ' hello,python '\n",
    "str_5 = str_4.strip()\n",
    "str_5"
   ]
  },
  {
   "attachments": {},
   "cell_type": "markdown",
   "metadata": {},
   "source": [
    "輸入+輸出+f-string"
   ]
  },
  {
   "cell_type": "code",
   "execution_count": 28,
   "metadata": {},
   "outputs": [
    {
     "name": "stdout",
     "output_type": "stream",
     "text": [
      "你輸入的數字是: 1\n"
     ]
    }
   ],
   "source": [
    "num = input('請輸入一個數字')\n",
    "#輸出所輸入的數字\n",
    "#f-string\n",
    "print(f'你輸入的數字是: {num}')"
   ]
  },
  {
   "attachments": {},
   "cell_type": "markdown",
   "metadata": {},
   "source": [
    "1.多重數值"
   ]
  },
  {
   "cell_type": "code",
   "execution_count": 29,
   "metadata": {},
   "outputs": [
    {
     "name": "stdout",
     "output_type": "stream",
     "text": [
      "1 2\n"
     ]
    }
   ],
   "source": [
    "#多重數值\n",
    "x, y=1, 2\n",
    "print(x, y)\n"
   ]
  },
  {
   "attachments": {},
   "cell_type": "markdown",
   "metadata": {},
   "source": [
    "2.數值交換"
   ]
  },
  {
   "cell_type": "code",
   "execution_count": 31,
   "metadata": {},
   "outputs": [
    {
     "name": "stdout",
     "output_type": "stream",
     "text": [
      "2 1\n"
     ]
    }
   ],
   "source": [
    "x, y=y, x\n",
    "print(x,y)"
   ]
  },
  {
   "attachments": {},
   "cell_type": "markdown",
   "metadata": {},
   "source": [
    "3.淺層複製"
   ]
  },
  {
   "cell_type": "code",
   "execution_count": 32,
   "metadata": {},
   "outputs": [
    {
     "name": "stdout",
     "output_type": "stream",
     "text": [
      "[1, 2, 3] [1, 2, 3]\n"
     ]
    }
   ],
   "source": [
    "#淺層複製\n",
    "x=[1,2,3]\n",
    "y=x\n",
    "print(x,y)"
   ]
  },
  {
   "cell_type": "code",
   "execution_count": 39,
   "metadata": {},
   "outputs": [
    {
     "name": "stdout",
     "output_type": "stream",
     "text": [
      "[[1, 2, 3], [4, 5, 6]]\n",
      "[[1, 2, 3], [4, 5, 6]]\n",
      "[[9, 2, 3], [4, 5, 6]]\n",
      "[[9, 2, 3], [4, 5, 6]]\n",
      "140572201162176\n",
      "140572200889088\n"
     ]
    }
   ],
   "source": [
    "#淺層複製\n",
    "list1=[[1,2,3],[4,5,6]]\n",
    "list2=list1.copy()\n",
    "print(list1)\n",
    "print(list2)\n",
    "#\n",
    "list1[0][0]=9\n",
    "print(list1)\n",
    "print(list2)\n",
    "#\n",
    "print(id(list1))\n",
    "print(id(list2))"
   ]
  },
  {
   "attachments": {},
   "cell_type": "markdown",
   "metadata": {},
   "source": [
    "四捨五入"
   ]
  },
  {
   "cell_type": "code",
   "execution_count": 40,
   "metadata": {},
   "outputs": [
    {
     "name": "stdout",
     "output_type": "stream",
     "text": [
      "對a做四捨五入 4\n",
      "對b做四捨五入 4\n"
     ]
    }
   ],
   "source": [
    "#四捨五入\n",
    "a=3.5\n",
    "b=4.5\n",
    "#\n",
    "print('對a做四捨五入',round(a))\n",
    "print('對b做四捨五入',round(b))"
   ]
  },
  {
   "attachments": {},
   "cell_type": "markdown",
   "metadata": {},
   "source": [
    "數學上的四捨五入"
   ]
  },
  {
   "cell_type": "code",
   "execution_count": 43,
   "metadata": {},
   "outputs": [
    {
     "name": "stdout",
     "output_type": "stream",
     "text": [
      "對A做四捨五入 3\n",
      "對b做四捨五入 4\n"
     ]
    }
   ],
   "source": [
    "import math\n",
    "#\n",
    "print('對A做四捨五入',math.floor(a))\n",
    "#\n",
    "print('對b做四捨五入',math.floor(b))"
   ]
  },
  {
   "cell_type": "code",
   "execution_count": 6,
   "metadata": {},
   "outputs": [
    {
     "name": "stdout",
     "output_type": "stream",
     "text": [
      "62\n"
     ]
    }
   ],
   "source": [
    "sum = 20\n",
    "for i in input().split():\n",
    "    sum += int(i)\n",
    "print(sum)"
   ]
  },
  {
   "attachments": {},
   "cell_type": "markdown",
   "metadata": {},
   "source": [
    "買鉛筆"
   ]
  },
  {
   "attachments": {},
   "cell_type": "markdown",
   "metadata": {},
   "source": [
    "運算元"
   ]
  },
  {
   "cell_type": "code",
   "execution_count": 4,
   "metadata": {},
   "outputs": [
    {
     "data": {
      "text/plain": [
       "bool"
      ]
     },
     "execution_count": 4,
     "metadata": {},
     "output_type": "execute_result"
    }
   ],
   "source": [
    "a = 98\n",
    "a=98.1\n",
    "a='20'\n",
    "a=True\n",
    "type(a)"
   ]
  },
  {
   "cell_type": "code",
   "execution_count": 8,
   "metadata": {},
   "outputs": [
    {
     "data": {
      "text/plain": [
       "6"
      ]
     },
     "execution_count": 8,
     "metadata": {},
     "output_type": "execute_result"
    }
   ],
   "source": [
    "a=3+3.0\n",
    "int(a)"
   ]
  },
  {
   "cell_type": "code",
   "execution_count": 13,
   "metadata": {},
   "outputs": [
    {
     "data": {
      "text/plain": [
       "5.8"
      ]
     },
     "execution_count": 13,
     "metadata": {},
     "output_type": "execute_result"
    }
   ],
   "source": [
    "a=float(5.8)\n",
    "float(a)"
   ]
  },
  {
   "cell_type": "code",
   "execution_count": 16,
   "metadata": {},
   "outputs": [
    {
     "data": {
      "text/plain": [
       "3.54"
      ]
     },
     "execution_count": 16,
     "metadata": {},
     "output_type": "execute_result"
    }
   ],
   "source": [
    "round(3.5411111)\n",
    "round(3.5411111,ndigits=2 )"
   ]
  },
  {
   "cell_type": "code",
   "execution_count": 17,
   "metadata": {},
   "outputs": [
    {
     "name": "stdout",
     "output_type": "stream",
     "text": [
      "n3的值是15\n"
     ]
    }
   ],
   "source": [
    "n1=int(input('清輸入第1個數字'))\n",
    "n2=int(input('清輸入第2個數字'))\n",
    "n3=n1+n2\n",
    "print('n3的值是',n3,sep='')"
   ]
  },
  {
   "attachments": {},
   "cell_type": "markdown",
   "metadata": {},
   "source": [
    "角度轉換"
   ]
  },
  {
   "cell_type": "code",
   "execution_count": 19,
   "metadata": {},
   "outputs": [
    {
     "name": "stdout",
     "output_type": "stream",
     "text": [
      "直角的度數:30度\n"
     ]
    }
   ],
   "source": [
    "import math\n",
    "n=float(input('請輸入斜邊:'))\n",
    "m=float(input('請輸入對邊:'))\n",
    "radion =math.asin(m/n)\n",
    "degree=round(math.degrees(radion))\n",
    "print(f'直角的度數:{degree}度')"
   ]
  },
  {
   "cell_type": "code",
   "execution_count": 20,
   "metadata": {},
   "outputs": [
    {
     "data": {
      "text/plain": [
       "True"
      ]
     },
     "execution_count": 20,
     "metadata": {},
     "output_type": "execute_result"
    }
   ],
   "source": [
    "3==3\n"
   ]
  },
  {
   "cell_type": "code",
   "execution_count": 23,
   "metadata": {},
   "outputs": [
    {
     "data": {
      "text/plain": [
       "27"
      ]
     },
     "execution_count": 23,
     "metadata": {},
     "output_type": "execute_result"
    }
   ],
   "source": [
    "3**3\n"
   ]
  },
  {
   "cell_type": "code",
   "execution_count": 29,
   "metadata": {},
   "outputs": [
    {
     "name": "stdout",
     "output_type": "stream",
     "text": [
      "學生總分為:260分\n"
     ]
    }
   ],
   "source": [
    "scores=int(input('請輸入該學生分數(最高300分):'))\n",
    "is_add=input('學生是否符合加分條件?(y,n)')\n",
    "if is_add == 'y':\n",
    "    scores = scores + scores * 0.05\n",
    "    if scores > 300:\n",
    "        scores=300\n",
    "print(f'學生總分為:{scores}分')"
   ]
  },
  {
   "attachments": {},
   "cell_type": "markdown",
   "metadata": {},
   "source": [
    "判斷"
   ]
  },
  {
   "cell_type": "code",
   "execution_count": 36,
   "metadata": {},
   "outputs": [
    {
     "name": "stdout",
     "output_type": "stream",
     "text": [
      "及格\n",
      "優\n"
     ]
    }
   ],
   "source": [
    "chinese=int(input('該學生的國文成績為:'))\n",
    "if chinese < 60:\n",
    "    print('不及格')\n",
    "else:\n",
    "    print('及格')\n",
    "    if chinese < 80:\n",
    "       print('優')\n",
    "    else:\n",
    "       print('很優') \n",
    "                  "
   ]
  },
  {
   "attachments": {},
   "cell_type": "markdown",
   "metadata": {},
   "source": [
    "換算成績等級 多項選擇"
   ]
  },
  {
   "cell_type": "code",
   "execution_count": 37,
   "metadata": {},
   "outputs": [
    {
     "name": "stdout",
     "output_type": "stream",
     "text": [
      "丁\n"
     ]
    }
   ],
   "source": [
    "score=int(input('該學生成績為:'))\n",
    "if   score >= 90:\n",
    "   print('優')\n",
    "elif score > 80:\n",
    "   print('甲')\n",
    "elif score >70:\n",
    "   print('乙')\n",
    "elif score >60:\n",
    "   print('丙')\n",
    "else:\n",
    "   print('丁') "
   ]
  },
  {
   "attachments": {},
   "cell_type": "markdown",
   "metadata": {},
   "source": [
    "not的用法"
   ]
  },
  {
   "cell_type": "code",
   "execution_count": 39,
   "metadata": {},
   "outputs": [
    {
     "name": "stdout",
     "output_type": "stream",
     "text": [
      "中文100分\n"
     ]
    }
   ],
   "source": [
    "chinese = 100\n",
    "if not chinese ==100:\n",
    "   print('中文沒有100分')\n",
    "else:\n",
    "   print('中文100分')"
   ]
  },
  {
   "attachments": {},
   "cell_type": "markdown",
   "metadata": {},
   "source": [
    "and,or 邏輯運算"
   ]
  },
  {
   "cell_type": "code",
   "execution_count": 44,
   "metadata": {},
   "outputs": [
    {
     "name": "stdout",
     "output_type": "stream",
     "text": [
      "0\n"
     ]
    }
   ],
   "source": [
    "chinese=10\n",
    "english=60\n",
    "\n",
    "if chinese ==100 and english ==100:\n",
    "   print('1000')\n",
    "elif chinese ==100 or english ==100:\n",
    "   print('500')\n",
    "else:\n",
    "   print('0')"
   ]
  },
  {
   "attachments": {},
   "cell_type": "markdown",
   "metadata": {},
   "source": [
    "for in用法"
   ]
  },
  {
   "cell_type": "code",
   "execution_count": 46,
   "metadata": {},
   "outputs": [
    {
     "name": "stdout",
     "output_type": "stream",
     "text": [
      "0\n",
      "1\n",
      "2\n",
      "3\n",
      "4\n",
      "5\n",
      "6\n",
      "7\n",
      "8\n",
      "9\n"
     ]
    }
   ],
   "source": [
    "for i in range(10):\n",
    "   print(i)\n"
   ]
  },
  {
   "cell_type": "code",
   "execution_count": 58,
   "metadata": {},
   "outputs": [
    {
     "name": "stdout",
     "output_type": "stream",
     "text": [
      "1~100值為:5050\n"
     ]
    }
   ],
   "source": [
    "result=0\n",
    "for i in range(1,101):\n",
    "   \n",
    "     result= result + i\n",
    "print(f'1~100值為:{result}')\n"
   ]
  },
  {
   "cell_type": "code",
   "execution_count": 1,
   "metadata": {},
   "outputs": [
    {
     "name": "stdout",
     "output_type": "stream",
     "text": [
      "1=1\n",
      "J=1 J=2 J=3 J=4 J=5 J=6 J=7 J=8 J=9 \n",
      "=============\n",
      "1=2\n",
      "J=1 J=2 J=3 J=4 J=5 J=6 J=7 J=8 J=9 \n",
      "=============\n",
      "1=3\n",
      "J=1 J=2 J=3 J=4 J=5 J=6 J=7 J=8 J=9 \n",
      "=============\n",
      "1=4\n",
      "J=1 J=2 J=3 J=4 J=5 J=6 J=7 J=8 J=9 \n",
      "=============\n",
      "1=5\n",
      "J=1 J=2 J=3 J=4 J=5 J=6 J=7 J=8 J=9 \n",
      "=============\n",
      "1=6\n",
      "J=1 J=2 J=3 J=4 J=5 J=6 J=7 J=8 J=9 \n",
      "=============\n",
      "1=7\n",
      "J=1 J=2 J=3 J=4 J=5 J=6 J=7 J=8 J=9 \n",
      "=============\n",
      "1=8\n",
      "J=1 J=2 J=3 J=4 J=5 J=6 J=7 J=8 J=9 \n",
      "=============\n",
      "1=9\n",
      "J=1 J=2 J=3 J=4 J=5 J=6 J=7 J=8 J=9 \n",
      "=============\n"
     ]
    }
   ],
   "source": [
    "for i in range(1,10):\n",
    "    print(f'1={i}')\n",
    "    for j in range(1,10):\n",
    "        print(f'J={j}',end=' ')\n",
    "    print('\\n=============')"
   ]
  },
  {
   "cell_type": "code",
   "execution_count": null,
   "metadata": {},
   "outputs": [],
   "source": [
    "deposit = 0\n",
    "months = 0\n",
    "while(deposit>30000):\n",
    "    month += 1\n",
    "    value=int(input(f))"
   ]
  }
 ],
 "metadata": {
  "kernelspec": {
   "display_name": "Python 3",
   "language": "python",
   "name": "python3"
  },
  "language_info": {
   "codemirror_mode": {
    "name": "ipython",
    "version": 3
   },
   "file_extension": ".py",
   "mimetype": "text/x-python",
   "name": "python",
   "nbconvert_exporter": "python",
   "pygments_lexer": "ipython3",
   "version": "3.10.8"
  },
  "orig_nbformat": 4
 },
 "nbformat": 4,
 "nbformat_minor": 2
}
